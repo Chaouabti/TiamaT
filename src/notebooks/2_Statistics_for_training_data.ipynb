{
 "cells": [
  {
   "cell_type": "markdown",
   "id": "ada43278",
   "metadata": {},
   "source": [
    "# Descriptive Statistics for YOLO Training Dataset"
   ]
  },
  {
   "cell_type": "markdown",
   "id": "16237a77-065d-42f1-b829-90e794f4b56b",
   "metadata": {
    "editable": true,
    "slideshow": {
     "slide_type": ""
    },
    "tags": []
   },
   "source": [
    "This notebook provides visual and quantitative insights into your training dataset.\n",
    "\n",
    "It processes image and label files (with matching names) from two folders:\n",
    "- `images/` – contains input images\n",
    "- `labels/` – contains YOLO-format `.txt` files\n",
    "\n",
    "📌 **Requirement**: A `labels.txt` file listing annotation classes like:\n",
    "\n",
    "```python\n",
    "'0': 'class_name0',\n",
    "'1': 'class_name1',\n",
    "'2': 'class_name2'\n",
    "```\n",
    "These statistics help assess label coverage and dataset consistency prior to training.\n",
    "\n",
    "\n",
    "&copy; 2023 Marion Charpier — use of this notebook requires appropriate citation."
   ]
  },
  {
   "cell_type": "markdown",
   "id": "c322992a-b401-46ff-b75b-435957785c5e",
   "metadata": {},
   "source": [
    "## Environment"
   ]
  },
  {
   "cell_type": "code",
   "execution_count": 55,
   "id": "42d83b79-9458-4571-b5f8-fcf17b241f0d",
   "metadata": {
    "editable": true,
    "slideshow": {
     "slide_type": ""
    },
    "tags": []
   },
   "outputs": [],
   "source": [
    "import codecs\n",
    "from pathlib import Path\n",
    "\n",
    "import pandas as pd\n",
    "import matplotlib.pyplot as plt\n",
    "\n",
    "import sys\n",
    "sys.path.append(str(Path.cwd().parent / 'modules'))\n",
    "\n",
    "from folders_path import get_data_folder\n",
    "from class_names_functions import get_labels\n",
    "from manipulate_files import find_image_path"
   ]
  },
  {
   "cell_type": "markdown",
   "id": "b39db708-9d42-489c-b221-e5f596ffc73c",
   "metadata": {},
   "source": [
    "## Functions"
   ]
  },
  {
   "cell_type": "markdown",
   "id": "be3a40e6-6037-492f-8964-a2973279c7c6",
   "metadata": {},
   "source": [
    "### Functions to create the folder for statistics results and the path to data folders"
   ]
  },
  {
   "cell_type": "code",
   "execution_count": 56,
   "id": "930f11d5-794b-4f73-b9eb-5e10aaac9c32",
   "metadata": {
    "tags": []
   },
   "outputs": [],
   "source": [
    "def create_stats_folder(project_folder:str) -> None:\n",
    "    \"\"\"\n",
    "    Creates a 'dataset_statistics' subfolder in the training directory if it doesn't exist.\n",
    "\n",
    "    Parameters\n",
    "    ----------\n",
    "    project_folder : str\n",
    "        Absolute path to the project folder.\n",
    "    \"\"\"\n",
    "    stats_folder = Path(get_data_folder(project_folder)) / 'dataset_statistics'\n",
    "    stats_folder.mkdir(parents=True, exist_ok=True)\n"
   ]
  },
  {
   "cell_type": "markdown",
   "id": "ecc7bb29-5157-4436-b96c-ac900a064b27",
   "metadata": {},
   "source": [
    "### Functions to describe the annotated sources"
   ]
  },
  {
   "cell_type": "markdown",
   "id": "38b523e0-4c14-4f86-a4a4-d68272ebbdea",
   "metadata": {
    "tags": []
   },
   "source": [
    "#### Clean up annotated data names with Label Studio"
   ]
  },
  {
   "cell_type": "code",
   "execution_count": null,
   "id": "d5508177-a822-47a2-ae8b-1df177f15def",
   "metadata": {
    "tags": []
   },
   "outputs": [],
   "source": [
    "def clean_LS(project_folder:str, annotated_with_LS:bool)-> None:\n",
    "    \"\"\"\n",
    "    Renames files in the 'images' and 'labels' subdirectories of a dataset folder\n",
    "    by removing the prefix added by Label Studio (typically an 8-character alphanumeric\n",
    "    string followed by a dash, e.g., 'abcd1234-').\n",
    "\n",
    "    This function is intended to clean up file names after annotation with Label Studio,\n",
    "    ensuring compatibility with downstream processing pipelines that expect original file names.\n",
    "\n",
    "    Parameters:\n",
    "    ----------\n",
    "    project_folder : str\n",
    "        The absolute path to the root project folder.\n",
    "\n",
    "    annotated_with_LS : bool\n",
    "        Indicates whether the files were annotated using Label Studio.\n",
    "        If True, the function proceeds with renaming.\n",
    "\n",
    "    Returns:\n",
    "    -------\n",
    "    None\n",
    "        This function modifies filenames in place and does not return a value.\n",
    "    \"\"\"\n",
    "\n",
    "    \n",
    "    if not annotated_with_LS:\n",
    "        return\n",
    "    \n",
    "    else:\n",
    "        data_folder = Path(get_data_folder(project_folder))\n",
    "        img_folder = data_folder / 'images'\n",
    "        labels_folder = data_folder / 'labels'\n",
    "\n",
    "\n",
    "        # Browse the files in the 'images' directory\n",
    "        for img_file in img_folder.iterdir():\n",
    "            if img_file.is_file() and len(img_file.name) > 9:\n",
    "                new_img_filename = img_file.name[9:] # Correction de la manière de construire le nouveau nom de fichier\n",
    "                new_img_filepath = img_folder / new_img_filename\n",
    "                img_file.rename(new_img_filepath)\n",
    "            print(f\"Renamed image file : {img_file} -> {new_img_filename}\")\n",
    "\n",
    "        # Browse the files in the 'labels' directory\n",
    "        for label_file in labels_folder.iterdir(): # Ajout des parenthèses\n",
    "            if label_file.is_file() and len(label_file.name) > 9:\n",
    "                new_label_filename = label_file.name[9:]\n",
    "                new_label_filepath = labels_folder / new_label_filename   # Ici ajout de l'espace entre labels_folder / et new_label_filename\n",
    "                label_file.rename(new_label_filepath)\n",
    "            print(f\"Renamed label file: {label_file.name} -> {new_label_filename}\")"
   ]
  },
  {
   "cell_type": "markdown",
   "id": "23d19f90-ffeb-4874-95c7-5adc8e70aa3a",
   "metadata": {},
   "source": [
    "###  Distribution of annotations"
   ]
  },
  {
   "cell_type": "markdown",
   "id": "33c114ad-ba0f-481b-ad17-eb41cf2eca25",
   "metadata": {},
   "source": [
    "#### Get the annotation files"
   ]
  },
  {
   "cell_type": "code",
   "execution_count": 58,
   "id": "17505847-276b-47c6-a42c-55792bdad21c",
   "metadata": {
    "editable": true,
    "slideshow": {
     "slide_type": ""
    },
    "tags": []
   },
   "outputs": [],
   "source": [
    "def get_annotation_files(img_folder:Path, labels_folder:Path) -> list:\n",
    "    \"\"\"\n",
    "    Retrieves the list of '.txt' annotation files that correspond to image files\n",
    "    in a given image folder. Only annotation files with a matching image file\n",
    "    (based on filename without extension) are included.\n",
    "\n",
    "    Parameters:\n",
    "    ----------\n",
    "    img_folder : Path\n",
    "        Path to the folder containing image files (e.g., .jpg, .png, .jpeg, .tiff).\n",
    "\n",
    "    labels_folder : Path\n",
    "        Path to the folder containing annotation files (one .txt file per image).\n",
    "\n",
    "    Returns:\n",
    "    -------\n",
    "    list of Path\n",
    "        A list of Path objects representing .txt annotation files that have a\n",
    "        corresponding image in the image folder.\n",
    "\n",
    "    Notes:\n",
    "    ------\n",
    "    - This ensures consistency between images and annotations, which is critical\n",
    "      for tasks like object detection or image classification training.\n",
    "    \"\"\"\n",
    "\n",
    "    img_exts = {\".jpg\", \".jpeg\", \".png\", \".tiff\"}\n",
    "    image_files = [f for f in img_folder.iterdir() if f.suffix.lower() in img_exts]\n",
    "\n",
    "    annotation_files = []\n",
    "    \n",
    "    for image_file in image_files:\n",
    "        image_name = image_file.stem\n",
    "        annotation_file = labels_folder / f'{image_name}.txt'\n",
    "        \n",
    "        if annotation_file.exists() and annotation_file.is_file():\n",
    "            annotation_files.append(str(annotation_file))\n",
    "            \n",
    "    return annotation_files"
   ]
  },
  {
   "cell_type": "markdown",
   "id": "cba23b1e-8564-4a39-bdef-39d5c0bda9ed",
   "metadata": {},
   "source": [
    "#### Check that all annotation files are utf-8 encoded"
   ]
  },
  {
   "cell_type": "code",
   "execution_count": 59,
   "id": "33119baa-0060-4f8b-9bd7-a093494d2086",
   "metadata": {
    "tags": []
   },
   "outputs": [],
   "source": [
    "def encoding(project_folder:str) -> None:\n",
    "    \"\"\"\n",
    "    Checks the encoding of annotation files and logs those not in UTF-8.\n",
    "\n",
    "    Parameters\n",
    "    ----------\n",
    "    project_folder : str\n",
    "        Absolute path to the project folder containing the 'labels' subdirectory.\n",
    "\n",
    "    Returns\n",
    "    -------\n",
    "    None\n",
    "        Logs annotation files that are not UTF-8 encoded (e.g., ISO-8859-1).\n",
    "    \"\"\"\n",
    "    data_folder = Path(get_data_folder(project_folder))\n",
    "    img_folder = data_folder / 'images'\n",
    "    labels_folder = data_folder / 'labels'\n",
    "    \n",
    "    annotation_files = get_annotation_files(img_folder, labels_folder)\n",
    "\n",
    "    for file_path in annotation_files:\n",
    "        with open(file_path, 'rb') as f:\n",
    "            rawdata = f.read()\n",
    "        try:\n",
    "            result = codecs.decode(rawdata, 'utf-8')\n",
    "        except UnicodeDecodeError:\n",
    "            try:\n",
    "                result = codecs.decode(rawdata, 'iso-8859-1')\n",
    "                print(f\"{file_path.name} is encoded in ISO-8859-1\")\n",
    "            except UnicodeDecodeError:\n",
    "                print(f\"{file_path.name} encoding not recognized\")"
   ]
  },
  {
   "cell_type": "markdown",
   "id": "930bd70e-92e6-454e-b4d3-0e3e02b75106",
   "metadata": {},
   "source": [
    "#### Function to get the number of images without annotations"
   ]
  },
  {
   "cell_type": "code",
   "execution_count": 60,
   "id": "4688a1e7-a609-4e5f-8a19-0d52c5b736ed",
   "metadata": {
    "tags": []
   },
   "outputs": [],
   "source": [
    "def img_without_annotations(img_folder:Path, labels_folder:Path) -> int:\n",
    "    \"\"\"\n",
    "    This function identifies images in the specified image folder that do not have corresponding annotation files \n",
    "    or have empty annotation files. It helps detect unannotated images, which may cause issues during model training.\n",
    "    This function helps ensure that the dataset is clean and consistent before starting a training session, \n",
    "    preventing potential errors or suboptimal model performance caused by unannotated or empty images.\n",
    "\n",
    "    :param img_folder: \n",
    "        - Type: Path\n",
    "        - Description: Path to the folder containing image files (.jpg, .jpeg, .png, .tiff).\n",
    "\n",
    "    :param labels_folder: \n",
    "        - Type: Path\n",
    "        - Description: Path to the folder containing .txt annotation files.\n",
    "\n",
    "    :return: \n",
    "        - Type: int\n",
    "        - Description: The number of unannotated images found, including those without annotation files \n",
    "                       and those with empty annotation files.\n",
    "    \"\"\"\n",
    "\n",
    "    annotation_files = get_annotation_files(img_folder, labels_folder)\n",
    "    \n",
    "    img_exts = {\".jpg\", \".jpeg\", \".png\", \".tiff\"}\n",
    "    image_files = [f for f in img_folder.iterdir() if f.suffix.lower() in img_exts]\n",
    "    \n",
    "    count = 0\n",
    "    unannotated_image = []\n",
    "    \n",
    "    # Images without corresponding annotation files or with an empty annotation file\n",
    "    for image_file in image_files:\n",
    "        annotation_path = labels_folder / f\"{image_file.stem}.txt\"\n",
    "        \n",
    "        if not annotation_path.exists():\n",
    "            count += 1\n",
    "            unannotated_image.append(image_file)\n",
    "            print(f\"Image {image_file} has no annotation file\")\n",
    "        \n",
    "        elif annotation_path.stat().st_size == 0:\n",
    "            count += 1\n",
    "            unannotated_image.append(image_file)\n",
    "            print(f\"Image {image_file} has an empty annotation file\")\n",
    "\n",
    "    \n",
    "    # Annotation files that are empty\n",
    "    if unannotated_image:\n",
    "        delete = input(f'You have {len(unannotated_image)} unannotated images in your dataset. Do you want to delete them? (yes/no) : ').strip().lower()\n",
    "        if delete == 'yes':\n",
    "            for image in unannotated_image:\n",
    "                image.unlink()\n",
    "                print(f\"Deleted image: {image.name}\")\n",
    "        else:\n",
    "            print('Warning! You will start a training session with unannotated images')\n",
    "    \n",
    "    return count"
   ]
  },
  {
   "cell_type": "markdown",
   "id": "eb7335dd-8cde-4ec2-b09c-b80e418255b0",
   "metadata": {},
   "source": [
    "#### Get the number of annotations per image"
   ]
  },
  {
   "cell_type": "code",
   "execution_count": 61,
   "id": "dc635ae3-5960-46e8-bfc9-09e79a0da434",
   "metadata": {
    "editable": true,
    "slideshow": {
     "slide_type": ""
    },
    "tags": []
   },
   "outputs": [],
   "source": [
    "def annotations_per_img(project_folder:str) -> None:\n",
    "    \"\"\"\n",
    "    Counts annotations per image and saves results to 'annotations_per_img.csv'.\n",
    "\n",
    "    Parameters\n",
    "    ----------\n",
    "    project_folder : str\n",
    "        Path to the folder containing 'images', 'labels', and 'dataset_statistics'.\n",
    "\n",
    "    Returns\n",
    "    -------\n",
    "    None\n",
    "    \"\"\"\n",
    "\n",
    "    # Retrieve Annotation Files\n",
    "    data_folder = Path(get_data_folder(project_folder))\n",
    "    data_stat_folder = data_folder / 'dataset_statistics'\n",
    "    data_stat_folder.mkdir(parents=True, exist_ok=True)\n",
    "\n",
    "    img_folder = data_folder / 'images'\n",
    "    labels_folder = data_folder / 'labels'\n",
    "    \n",
    "    annotation_files = get_annotation_files(img_folder, labels_folder)\n",
    "\n",
    "    # Count Annotations per Image\n",
    "    lines_per_file = {}\n",
    "   \n",
    "    for annotation_file in annotation_files:\n",
    "        with open(annotation_file, 'r') as ann_file:\n",
    "                nb_lines = sum(1 for _ in ann_file)\n",
    "\n",
    "        image_name = Path(annotation_file).stem  # Get the image name without extension\n",
    "        image_path = find_image_path(img_folder, image_name)\n",
    "        lines_per_file[image_path] = nb_lines\n",
    "    \n",
    "    sorted_counts = dict(sorted(lines_per_file.items(), key=lambda x: x[1], reverse=True))\n",
    "\n",
    "    # Create a DataFrame from the results\n",
    "    df = pd.DataFrame(sorted_counts.items(), columns=['image_name', 'annotations_nb'])\n",
    "\n",
    "    # Write the DataFrame to a CSV file with ';' as the separator\n",
    "    csv_file_path = data_stat_folder / 'annotations_per_img.csv'\n",
    "    df.to_csv(csv_file_path, index=False, sep=';')\n",
    "\n",
    "    print(f'{csv_file_path} created')    "
   ]
  },
  {
   "cell_type": "markdown",
   "id": "1d9c1978-e513-460f-9e07-d686d436e0cc",
   "metadata": {},
   "source": [
    "#### Get total number of annotations"
   ]
  },
  {
   "cell_type": "code",
   "execution_count": 62,
   "id": "c5b7ff7d-ba0a-45b2-a431-79eecbc38346",
   "metadata": {
    "tags": []
   },
   "outputs": [],
   "source": [
    "def total_annotations(img_folder:str, labels_folder:str) -> int:\n",
    "    \"\"\"\n",
    "    This function calculates the total number of annotations present in the specified training dataset \n",
    "    by counting the number of non-empty lines in each annotation file. Each line in a `.txt` annotation file \n",
    "    typically represents an individual bounding box or object annotation.\n",
    "\n",
    "    :param img_folder: \n",
    "        - Type: str\n",
    "        - Description: The absolute path to the folder where the images are stored. \n",
    "                       The function will look for image files to identify corresponding annotation files.\n",
    "\n",
    "    :param txt_folder: \n",
    "        - Type: str\n",
    "        - Description: The absolute path to the folder where the annotation files are stored. \n",
    "                       The function will look for `.txt` files containing annotation data.\n",
    "\n",
    "    :return: \n",
    "        - Type: int\n",
    "        - Description: The total number of annotations across all images in the dataset. This count includes \n",
    "                       all valid lines from the `.txt` annotation files, excluding empty lines.\n",
    "\n",
    "    This function helps provide an overview of the dataset's annotation density,\n",
    "    which can be useful for dataset analysis and model training considerations.\n",
    "    \"\"\"\n",
    "\n",
    "    # Retrieve Annotation Files\n",
    "    annotation_files = get_annotation_files(img_folder, labels_folder)\n",
    "\n",
    "    # Count Annotations\n",
    "    total_lines = 0\n",
    "\n",
    "    for annotation_file in annotation_files:\n",
    "        with open(labels_folder / annotation_file, 'r') as f:\n",
    "            nb_lines = 0\n",
    "            for line in f:\n",
    "                if line.strip():  # ignore empty lignes\n",
    "                    nb_lines += 1\n",
    "            total_lines += nb_lines\n",
    "    print(f\"The total number of annotations is {total_lines}.\")\n",
    "    return total_lines\n",
    "    "
   ]
  },
  {
   "cell_type": "markdown",
   "id": "9f99a0d6-0c48-4f2e-8df3-20fc8a95c261",
   "metadata": {},
   "source": [
    "#### Get the number of annotations for each class"
   ]
  },
  {
   "cell_type": "code",
   "execution_count": 63,
   "id": "4ec1c540-3763-4a32-9555-0478324a8285",
   "metadata": {
    "editable": true,
    "slideshow": {
     "slide_type": ""
    },
    "tags": []
   },
   "outputs": [],
   "source": [
    "def classes_distribution(project_folder:str)-> None:\n",
    "    \"\"\"\n",
    "    Computes class distribution from label files.\n",
    "    Saves results as a CSV and a horizontal bar chart.\n",
    "\n",
    "    Parameters\n",
    "    ----------\n",
    "    project_folder : str\n",
    "        Absolute path to the project folder containing 'labels' and 'dataset_statistics'.\n",
    "\n",
    "    Returns\n",
    "    -------\n",
    "    None\n",
    "        Outputs 'class_distribution.csv' and 'class_distribution.png' to 'dataset_statistics'.\n",
    "    \"\"\"\n",
    "\n",
    "    data_folder = Path(get_data_folder(project_folder))\n",
    "    img_folder = data_folder / 'images'\n",
    "    labels_folder = data_folder / 'labels'\n",
    "    labels_file = data_folder / 'labels.txt'\n",
    "    data_stat_folder = data_folder / 'dataset_statistics'\n",
    "    data_stat_folder.mkdir(parents=True, exist_ok=True)\n",
    "\n",
    "    # Get the labels from the labels.txt file\n",
    "    annotation_classes = get_labels(labels_file)\n",
    "    annotation_files = get_annotation_files(img_folder, labels_folder)\n",
    "\n",
    "    # Count Annotations per Class\n",
    "    occurrences = {}\n",
    "    for annotation_file in annotation_files:\n",
    "        with open(annotation_file, 'r', encoding='ascii') as f:\n",
    "            for line in f:\n",
    "                annotation_code = line.split()[0]\n",
    "                if annotation_code not in occurrences:\n",
    "                    occurrences[annotation_code] = 1\n",
    "                else:\n",
    "                    occurrences[annotation_code] += 1\n",
    "\n",
    "    # Map annotation codes to class names\n",
    "    class_names = [annotation_classes[code].strip() for code in occurrences.keys()]\n",
    "    \n",
    "    # Create a DataFrame from the results\n",
    "    df = pd.DataFrame({'class_name': class_names, 'nb_occurrences': occurrences.values()})\n",
    "\n",
    "    # Write the DataFrame to a CSV file with ';' as the separator\n",
    "    csv_file_path = data_stat_folder / 'class_distribution.csv'\n",
    "    df.to_csv(csv_file_path, index=False, sep=';')\n",
    "\n",
    "    print(f'{csv_file_path} created')\n",
    "    \n",
    "    # Creating a stacked bar chart\n",
    "    plt.barh(class_names, occurrences.values())\n",
    "\n",
    "    # Setting axis and title labels\n",
    "    plt.xlabel('Nombre d\\'occurrences')\n",
    "    plt.ylabel('Classes')\n",
    "    plt.title('Distribution des classes')\n",
    "    \n",
    "    figure_path = data_stat_folder / 'class_distribution.png'\n",
    "    # Display and save the graph\n",
    "    plt.savefig(figure_path, bbox_inches='tight')\n",
    "    plt.show()\n"
   ]
  },
  {
   "cell_type": "markdown",
   "id": "40383b8e-af92-4743-b45f-2c6fdf165ce2",
   "metadata": {},
   "source": [
    "#### Output global statistics"
   ]
  },
  {
   "cell_type": "code",
   "execution_count": 64,
   "id": "1edcd331-1ddf-4fe0-a68f-8ae5220a030b",
   "metadata": {
    "tags": []
   },
   "outputs": [],
   "source": [
    "def get_global_results(project_folder:str) -> None:\n",
    "    \"\"\"\n",
    "    Generates a summary of key dataset metrics and saves it in 'global_data.csv'.\n",
    "\n",
    "    Metrics:\n",
    "    - Number of images without annotations\n",
    "    - Total number of annotations\n",
    "\n",
    "    Parameters\n",
    "    ----------\n",
    "    project_folder : str\n",
    "        Absolute path to the project folder containing 'images', 'labels', and 'dataset_statistics' subfolders.\n",
    "\n",
    "    Returns\n",
    "    -------\n",
    "    None\n",
    "        Creates 'global_data.csv' in the 'dataset_statistics' folder.\n",
    "    \"\"\"\n",
    "    data_folder = Path(get_data_folder(project_folder))\n",
    "    img_folder = data_folder / 'images'\n",
    "    labels_folder = data_folder / 'labels'\n",
    "    data_stat_folder = data_folder / 'dataset_statistics'\n",
    "    data_stat_folder.mkdir(parents=True, exist_ok=True)\n",
    "\n",
    "    # Calculate the metrics\n",
    "    metrics = {\n",
    "        'Number of files without annotations': img_without_annotations(img_folder, labels_folder),\n",
    "        'Total number of annotations': total_annotations(img_folder, labels_folder)\n",
    "    }\n",
    "\n",
    "    # Create a DataFrame from the results\n",
    "    df = pd.DataFrame(metrics.items(), columns=['metric', 'value'])\n",
    "\n",
    "    # Write the DataFrame to a CSV file with ';' as the separator\n",
    "\n",
    "    csv_file_path = data_stat_folder / 'global_data.csv'\n",
    "    df.to_csv(csv_file_path, index=False, sep=';')\n",
    "\n",
    "    print(f'{csv_file_path} created')"
   ]
  },
  {
   "cell_type": "markdown",
   "id": "4be0d15a-aedb-4823-9e45-b5180e77d717",
   "metadata": {},
   "source": [
    "## Processing"
   ]
  },
  {
   "cell_type": "code",
   "execution_count": 65,
   "id": "db382e0d-13b3-4eba-b72d-99e5d56f92ad",
   "metadata": {
    "tags": []
   },
   "outputs": [],
   "source": [
    "project_folder = 'PROJECT_DIR' # to be modified, absolute path to the folder in which the training session data are stored"
   ]
  },
  {
   "cell_type": "code",
   "execution_count": 67,
   "id": "ec3e660f-e158-4fec-8d0c-f4f0f3f99bcc",
   "metadata": {
    "tags": []
   },
   "outputs": [],
   "source": [
    "# Create the statistic folder\n",
    "create_stats_folder(project_folder)"
   ]
  },
  {
   "cell_type": "code",
   "execution_count": 68,
   "id": "7a7fbab6-4e57-469d-99f9-03c8d1fd9193",
   "metadata": {},
   "outputs": [],
   "source": [
    "# Clean Label Studio file, default False, change as needed\n",
    "clean_LS(project_folder, annotated_with_LS=False)"
   ]
  },
  {
   "cell_type": "code",
   "execution_count": 69,
   "id": "c5d2c468-efc6-4b29-a9ba-2311e5335470",
   "metadata": {
    "tags": []
   },
   "outputs": [],
   "source": [
    "# Check encoding format of annotation files\n",
    "encoding(project_folder)"
   ]
  },
  {
   "cell_type": "code",
   "execution_count": null,
   "id": "4c4a82a3-6454-4e38-b6eb-bc5ae6890464",
   "metadata": {
    "tags": []
   },
   "outputs": [],
   "source": [
    "# Print a txt file with the number of annotations per image\n",
    "annotations_per_img(project_folder)"
   ]
  },
  {
   "cell_type": "code",
   "execution_count": null,
   "id": "84514d5b-48d3-4b9a-848e-143bb01afd9b",
   "metadata": {
    "tags": []
   },
   "outputs": [],
   "source": [
    "# Print a file with the distribution of classes in the training dataset\n",
    "classes_distribution(project_folder)"
   ]
  },
  {
   "cell_type": "code",
   "execution_count": null,
   "id": "a95525e2-9eb4-478a-bd0b-4c7922e21939",
   "metadata": {
    "editable": true,
    "slideshow": {
     "slide_type": ""
    },
    "tags": []
   },
   "outputs": [],
   "source": [
    "# Print a file with the number of manuscripts used for training, the number of unannotated images and total annotations\n",
    "get_global_results(project_folder)"
   ]
  }
 ],
 "metadata": {
  "kernelspec": {
   "display_name": "tiamat_env",
   "language": "python",
   "name": "tiamat_env"
  },
  "language_info": {
   "codemirror_mode": {
    "name": "ipython",
    "version": 3
   },
   "file_extension": ".py",
   "mimetype": "text/x-python",
   "name": "python",
   "nbconvert_exporter": "python",
   "pygments_lexer": "ipython3",
   "version": "3.8.0"
  },
  "toc-autonumbering": true
 },
 "nbformat": 4,
 "nbformat_minor": 5
}
